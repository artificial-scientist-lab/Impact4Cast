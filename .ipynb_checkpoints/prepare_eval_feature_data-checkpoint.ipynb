{
 "cells": [
  {
   "cell_type": "code",
   "execution_count": null,
   "id": "e965c883-bc23-437a-822a-6693275a5d54",
   "metadata": {},
   "outputs": [],
   "source": [
    "import os\n",
    "import pickle\n",
    "import gzip\n",
    "import copy\n",
    "import torch\n",
    "from torch import nn\n",
    "import torch.nn.functional as F\n",
    "import random, time\n",
    "import numpy as np\n",
    "import matplotlib.pyplot as plt\n",
    "from scipy import sparse\n",
    "from scipy.stats import rankdata\n",
    "import networkx as nx\n",
    "import pandas as pd\n",
    "from collections import defaultdict,Counter\n",
    "from datetime import datetime, date\n",
    "from itertools import combinations\n",
    "from preprocess_utils import *\n",
    "from features_utils import *\n",
    "from train_model_utils import *\n",
    " "
   ]
  },
  {
   "cell_type": "markdown",
   "id": "c44d8573-7c1d-4114-b5b2-ea2fa1bb5c34",
   "metadata": {},
   "source": [
    "## read pairs and solutions data (both)"
   ]
  },
  {
   "cell_type": "code",
   "execution_count": null,
   "id": "873dc1df-b27e-4b96-9a5d-40c151b0b256",
   "metadata": {},
   "outputs": [],
   "source": [
    "store_folder=\"data_pair_solution\"\n",
    "pair_solution_data1=os.path.join(store_folder,\"unconnected_2019_pair_solution_connected_2022.parquet\")\n",
    "pair_solution_data2=os.path.join(store_folder,\"unconnected_2019_pair_solution_unconnected_2022.parquet\")\n",
    "\n",
    "time_start = time.time()\n",
    "eval_pair_solution1 = pd.read_parquet(pair_solution_data1)\n",
    "eval_pair_solution1=eval_pair_solution1[['v1','v2','citation']]\n",
    "print(f\"Done, read pair_solution_yes: {len(eval_pair_solution1)}; elapsed_time: {time.time() - time_start}\")\n",
    "\n",
    "time_start = time.time()\n",
    "eval_pair_solution2 = pd.read_parquet(pair_solution_data2)\n",
    "print(f\"Done, read pair_solution_not: {len(eval_pair_solution2)}; elapsed_time: {time.time() - time_start}\")\n",
    "\n",
    "time_start = time.time()\n",
    "full_eval_pair_result = pd.concat([eval_pair_solution1, eval_pair_solution2])\n",
    "print(f\"Done, combine all: {len(full_eval_pair_result)}; elapsed_time: {time.time() - time_start}\")"
   ]
  },
  {
   "cell_type": "markdown",
   "id": "8a342e3a-2e78-4ea9-96fe-511a347ad92f",
   "metadata": {},
   "source": [
    "#### fix random seed"
   ]
  },
  {
   "cell_type": "code",
   "execution_count": null,
   "id": "627dbfab-4a88-4419-b868-92d285305456",
   "metadata": {},
   "outputs": [],
   "source": [
    "day_origin = date(1990,1,1)\n",
    "vertex_degree_cutoff=1\n",
    "years_delta=3\n",
    "min_edges=1\n",
    "year_start=2022-years_delta\n",
    "\n",
    "rnd_seed=42\n",
    "random.seed(rnd_seed)\n",
    "torch.manual_seed(rnd_seed)\n",
    "np.random.seed(rnd_seed)"
   ]
  },
  {
   "cell_type": "markdown",
   "id": "7023bfd5-d921-4d7e-8124-e5ce26fe6d9e",
   "metadata": {},
   "source": [
    "### randomly 10M "
   ]
  },
  {
   "cell_type": "code",
   "execution_count": null,
   "id": "9dfcdb04-357e-4b9d-8a38-17b104ed2b71",
   "metadata": {},
   "outputs": [],
   "source": [
    "edges_used=10**7\n",
    "num_row = int(min(edges_used, len(full_eval_pair_result)))\n",
    "\n",
    "time_start = time.time()\n",
    "shuffled = full_eval_pair_result.sample(frac=1, random_state=rnd_seed)\n",
    "eval_data_pair_solution = shuffled.head(num_row)\n",
    "\n",
    "print(f\"Done, eval_data_pair_solution: {len(eval_data_pair_solution)}; elapsed_time: {time.time() - time_start}\")"
   ]
  },
  {
   "cell_type": "markdown",
   "id": "99cfee20-1576-428c-b6bd-beee3ad65ce2",
   "metadata": {},
   "source": [
    "## store unconnected pairs and citation, time information"
   ]
  },
  {
   "cell_type": "code",
   "execution_count": null,
   "id": "834eec4d-4554-4e15-839b-f6d6f25adab4",
   "metadata": {},
   "outputs": [],
   "source": [
    "\n",
    "store_eval_folder=\"data_eval\"\n",
    "if not os.path.exists(store_eval_folder):\n",
    "    os.makedirs(store_eval_folder)\n",
    "print(f\"store files in {store_eval_folder}.....\")\n",
    "\n",
    "time_start = time.time()\n",
    "store_name=os.path.join(store_eval_folder,\"data_eval_pair_solution.parquet\")\n",
    "\n",
    "eval_data_pair_solution.to_parquet(store_name, compression='gzip')\n",
    "print(f\"eval_data_pair_solution: {len(eval_data_pair_solution)}; elapsed_time: {time.time() - time_start}\")\n"
   ]
  },
  {
   "cell_type": "markdown",
   "id": "db9e9baa-cfb2-4274-af0f-b93e4b2346d3",
   "metadata": {
    "tags": []
   },
   "source": [
    "#### prepare properties"
   ]
  },
  {
   "cell_type": "code",
   "execution_count": null,
   "id": "1925bd7e-cf68-4f03-90c2-7170d3b36057",
   "metadata": {},
   "outputs": [],
   "source": [
    "time_start = time.time()\n",
    "data_folder=\"data_concept_graph\"\n",
    "graph_file=os.path.join(data_folder,\"full_dynamic_graph.parquet\")\n",
    "full_dynamic_graph = pd.read_parquet(graph_file)\n",
    "print(f\"{datetime.now()}: Done, read full_dynamic_graph: {len(full_dynamic_graph)}; elapsed_time: {time.time() - time_start}\")"
   ]
  },
  {
   "cell_type": "code",
   "execution_count": null,
   "id": "81b249b8-ed05-43ff-b84a-b25e850a5e72",
   "metadata": {},
   "outputs": [],
   "source": [
    "day_origin = date(1990,1,1)\n",
    "vertex_degree_cutoff=1\n",
    "years_delta=3\n",
    "min_edges=1\n",
    "year_start=2022-years_delta"
   ]
  },
  {
   "cell_type": "code",
   "execution_count": null,
   "id": "f18e6f1e-b03e-41d2-8f14-c777b937d0ae",
   "metadata": {},
   "outputs": [],
   "source": [
    "start_time=time.time()\n",
    "adj_mat_sparse=[]\n",
    "node_neighbor_list=[]\n",
    "num_neighbor_list=[]\n",
    "for yy in [year_start,year_start-1,year_start-2]:\n",
    "    data_file=os.path.join(\"data_for_features\", f\"adjacency_matrix_{yy}.gz\")\n",
    "    adj_mat=get_adjacency_matrix(full_dynamic_graph, year_start, data_file)\n",
    "    adj_mat_sparse.append(adj_mat)\n",
    "    \n",
    "    curr_node_neighbor=get_node_neighbor(adj_mat)\n",
    "    node_neighbor_list.append(curr_node_neighbor)\n",
    "    \n",
    "    curr_num_neighbor = np.array(adj_mat.sum(axis=0)).flatten() # array \n",
    "    num_neighbor_list.append(curr_num_neighbor)\n",
    "    \n",
    "print(f\"{datetime.now()}: Done, adjacency_matrix_sparse; elapsed_time: {time.time() - start_time}\")"
   ]
  },
  {
   "cell_type": "code",
   "execution_count": null,
   "id": "f2aa8b6c-b523-4663-a562-78df50522415",
   "metadata": {},
   "outputs": [],
   "source": [
    "start_time=time.time()\n",
    "vertex_features=get_all_node_feature(adj_mat_sparse, year_start, \"data_for_features\")\n",
    "print(f\"{datetime.now()}: Done, vertex_features; elapsed_time: {time.time() - start_time}\")\n"
   ]
  },
  {
   "cell_type": "code",
   "execution_count": null,
   "id": "a3a909e3-8949-4d13-9c0d-1fa282d4ab45",
   "metadata": {},
   "outputs": [],
   "source": [
    "start_time=time.time()\n",
    "vc_feature_list=[]\n",
    "for yy in [year_start,year_start-1,year_start-2]:\n",
    "    data_file=os.path.join(\"data_for_features\", f\"concept_node_citation_data_{yy}.parquet\")\n",
    "    vc_df=pd.read_parquet(data_file)\n",
    "    vc_feature=vc_df.values\n",
    "    vc_feature_list.append(vc_feature)\n",
    "    \n",
    "vertex_cfeatures=get_all_node_cfeature(vc_feature_list)\n",
    "print(f\"{datetime.now()}: Done, vertex_cfeatures; elapsed_time: {time.time() - start_time}\") "
   ]
  },
  {
   "cell_type": "code",
   "execution_count": null,
   "id": "bf9d100e-5225-4de6-8e78-3d26bee80860",
   "metadata": {},
   "outputs": [],
   "source": [
    "node_parameter=[vc_feature_list, node_neighbor_list, num_neighbor_list, vertex_features, vertex_cfeatures]"
   ]
  },
  {
   "cell_type": "code",
   "execution_count": null,
   "id": "bb0eb093-f9a0-441d-aa47-9416ae12cc60",
   "metadata": {
    "tags": []
   },
   "outputs": [],
   "source": [
    "\n",
    "logs_file_name='logs_eval_data_infos'\n",
    "time_start = time.time()\n",
    "eval_pair_solution=eval_data_pair_solution.values\n",
    "unconnected_vertex_pairs=eval_pair_solution[:,:2]\n",
    " \n",
    "pair_features, pair_cfeatures=get_all_pair_features(vc_feature_list, node_neighbor_list, num_neighbor_list, unconnected_vertex_pairs, logs_file_name)\n",
    "\n",
    "all_features=[vertex_features, vertex_cfeatures, pair_features, pair_cfeatures]\n",
    "\n",
    "eval_data_features=get_all_feature(all_features, unconnected_vertex_pairs, logs_file_name)\n",
    "\n",
    "print(f\"finish; {len(eval_data_features)}; time: {time.time()-time_start}\")"
   ]
  },
  {
   "cell_type": "code",
   "execution_count": null,
   "id": "c2506f57-621e-48cd-bdf0-ad942cd862f0",
   "metadata": {},
   "outputs": [],
   "source": [
    "time_start = time.time()\n",
    "\n",
    "store_name=os.path.join(store_eval_folder,\"eval_data_pair_feature.parquet\")\n",
    "data_eval_2022 = pd.DataFrame(eval_data_features)\n",
    "data_eval_2022.to_parquet(store_name, compression='gzip')  \n",
    "\n",
    "print(f\"data_eval_2022: {len(data_eval_2022)}; elapsed_time: {time.time() - time_start}\")"
   ]
  },
  {
   "cell_type": "markdown",
   "id": "872c0cb3-47a7-43a7-833b-33487a186784",
   "metadata": {
    "tags": []
   },
   "source": [
    "### random shuffle and chose 10M"
   ]
  },
  {
   "cell_type": "code",
   "execution_count": null,
   "id": "b5882ef5-1646-41c8-987f-ce10a5a35587",
   "metadata": {},
   "outputs": [],
   "source": [
    "### random shuffle\n",
    "\n",
    "edges_used=1e7\n",
    "num_rows = int(min(edges_used, len(full_eval_pair_result)))\n",
    "\n",
    "time_start = time.time()\n",
    "shuffled = full_eval_pair_result.sample(frac=1, random_state=rnd_seed)\n",
    "#eval_data_pair_solution = shuffled.sample(n=num_rows, random_state=rnd_seed)\n",
    "eval_data_pair_solution = shuffled.head(num_row_no)\n",
    "\n",
    "print(f\"Done, eval_data_pair_solution: {len(eval_data_pair_solution)}; elapsed_time: {time.time() - time_start}\")\n",
    "\n",
    "\n",
    "time_start = time.time()\n",
    "eval_pair_solution=eval_data_pair_solution.values\n",
    "\n",
    "## to be sure there are no bias in v1>v2\n",
    "mask = np.random.rand(len(eval_pair_solution)) < 0.5\n",
    "eval_pair_solution_temp = eval_pair_solution[mask, 0].copy()\n",
    "eval_pair_solution[mask, 0] = eval_pair_solution[mask, 1]\n",
    "eval_pair_solution[mask, 1] = eval_pair_solution_temp\n",
    "\n",
    "print(f\"Done, array : {len(eval_pair_solution)}; elapsed_time: {time.time() - time_start}\")\n"
   ]
  }
 ],
 "metadata": {
  "kernelspec": {
   "display_name": "asl_semnet",
   "language": "python",
   "name": "asl_semnet"
  },
  "language_info": {
   "codemirror_mode": {
    "name": "ipython",
    "version": 3
   },
   "file_extension": ".py",
   "mimetype": "text/x-python",
   "name": "python",
   "nbconvert_exporter": "python",
   "pygments_lexer": "ipython3",
   "version": "3.10.9"
  }
 },
 "nbformat": 4,
 "nbformat_minor": 5
}
