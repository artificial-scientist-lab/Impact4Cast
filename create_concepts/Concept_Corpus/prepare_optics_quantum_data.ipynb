{
 "cells": [
  {
   "cell_type": "code",
   "execution_count": 1,
   "id": "34f3f857-ce5c-4779-8209-ca0fb47340f6",
   "metadata": {
    "tags": []
   },
   "outputs": [],
   "source": [
    "import json\n",
    "import linecache\n",
    "import time\n",
    "import jsonlines\n",
    "from datetime import datetime, date\n",
    "import pickle\n",
    "import os"
   ]
  },
  {
   "cell_type": "code",
   "execution_count": 2,
   "id": "2d360712-7cc0-4692-b5fc-69e2e6d2534d",
   "metadata": {
    "tags": []
   },
   "outputs": [
    {
     "name": "stdout",
     "output_type": "stream",
     "text": [
      "sub arxiv: 2227429\n",
      "Quantum and Optics: 78084; Modified: 78084, Elapsed time: 20.9117271900177 seconds\n"
     ]
    }
   ],
   "source": [
    "starting_date = date(1990,1,1)\n",
    "start_time = time.time()\n",
    "\n",
    "arxiv_folder='arxiv-snapshot'\n",
    "arxiv_json = os.path.join(arxiv_folder,\"arxiv-metadata-oai-snapshot.json\")\n",
    "\n",
    "arxiv_optics_quantum_original=[]\n",
    "arxiv_optics_quantum_modified=[]\n",
    "\n",
    "with jsonlines.open(arxiv_json, 'r') as f:\n",
    "    for id_of_abstract, line in enumerate(f):\n",
    "        if line['categories'] in ['physics.optics','quant-ph']:\n",
    "            arxiv_optics_quantum_original.append(line)  ## store the original one\n",
    "        \n",
    "            get_date = datetime.strptime(line['versions'][0]['created'], '%a, %d %b %Y %H:%M:%S %Z').date()\n",
    "            paper_time = (get_date - starting_date).days\n",
    "            arxiv_optics_quantum_modified.append([line['categories'],line['title'],line['abstract'],paper_time]) ## store modified one\n",
    "        \n",
    "elapsed_time = time.time() - start_time\n",
    "print(f\"sub arxiv: {id_of_abstract}\")\n",
    "print(f\"Quantum and Optics: {len(arxiv_optics_quantum_original)}; Modified: {len(arxiv_optics_quantum_modified)}, Elapsed time: {elapsed_time} seconds\")"
   ]
  },
  {
   "cell_type": "code",
   "execution_count": 3,
   "id": "431e166c-9e21-4ecf-b741-021fcd919c94",
   "metadata": {
    "tags": []
   },
   "outputs": [],
   "source": [
    "store_folder='domain_data'\n",
    "\n",
    "with open(os.path.join(store_folder,'arxiv_optics_quantum_original.pkl'), 'wb') as f:\n",
    "    pickle.dump(arxiv_optics_quantum_original, f)\n",
    "    \n",
    "with open(os.path.join(store_folder,'arxiv_optics_quantum_style_modified.pkl'), 'wb') as f:\n",
    "    pickle.dump(arxiv_optics_quantum_modified, f)"
   ]
  },
  {
   "cell_type": "code",
   "execution_count": 4,
   "id": "68c806ae-6789-48b5-ac54-725e73efda08",
   "metadata": {
    "tags": []
   },
   "outputs": [],
   "source": [
    "with open(os.path.join(store_folder,'arxiv_optics_quantum_original.json'), 'w') as f:\n",
    "    json.dump(arxiv_optics_quantum_original, f)\n",
    "        \n",
    "with open(os.path.join(store_folder,'arxiv_optics_quantum_style_modified.json'), 'w') as f:\n",
    "    json.dump(arxiv_optics_quantum_modified, f)"
   ]
  },
  {
   "cell_type": "markdown",
   "id": "cacfa9ab-f568-477b-b7de-cd3b77f7ffd3",
   "metadata": {},
   "source": [
    "## make only strings (title+abstract)"
   ]
  },
  {
   "cell_type": "code",
   "execution_count": 5,
   "id": "f2a75bed-b673-4e93-a7e0-775043857bab",
   "metadata": {
    "tags": []
   },
   "outputs": [],
   "source": [
    "# ## (Read the modified metadata; [source, title, abstract, time])\n",
    "### (Make each article in string, under certain replacements)\n",
    "\n",
    "def get_single_article_string(article):\n",
    "    \n",
    "    curr_title=article[1] #'title'\n",
    "    curr_abstract=article[2] #'abstract'\n",
    "    \n",
    "    replace_pairs=[['\\n',' '],['-',' '],[' \\\" a','oa'],['\\\" a','ae'],['\\\"a','ae'],[' \\\" o','oe'],['\\\" o','oe'],['\\\"o','oe'],[' \\\" u','ue'],\n",
    "                   ['\\\" u','ue'],['\\\"u','ue'],[' \\' a','a'],[' \\' e','e'],[' \\' o','o'],[\"\\' \", \"\"],[\"\\'\", \"\"],['  ',' '],['  ',' ']]\n",
    "    \n",
    "    article_string=(curr_title +' '+ curr_abstract).lower()\n",
    "    \n",
    "    for rep_pair in replace_pairs:\n",
    "        #print(rep_pair)\n",
    "        \n",
    "        article_string=article_string.replace(rep_pair[0],rep_pair[1])\n",
    "        #print(article_string)\n",
    "        #print('\\n')\n",
    "    \n",
    "    return article_string\n",
    "\n",
    "\n",
    "def get_all_paper_strings(article_lists, folder_file):\n",
    "\n",
    "    if os.path.exists(os.path.join(folder_file,'arxiv_optics_quantum_paper_strings.pkl')):\n",
    "        with open(os.path.join(folder_file,'arxiv_optics_quantum_paper_strings.pkl'), \"rb\") as f:\n",
    "            arxiv_optics_quantum_paper_strings = pickle.load(f)\n",
    "            \n",
    "    else:\n",
    "        all_paper_strings=[]\n",
    "        cc=0\n",
    "        for id_of_paper in range(len(article_lists)):\n",
    "            cc+=1\n",
    "            #if (cc%3000)==0:\n",
    "                #print(str(cc)+'/'+str(len(article_lists)))\n",
    "\n",
    "            all_paper_strings.append(get_single_article_string(article_lists[id_of_paper]))\n",
    "\n",
    "        with open(os.path.join(folder_file,'arxiv_optics_quantum_paper_strings.pkl'), \"wb\") as f:\n",
    "            pickle.dump(all_paper_strings, f)\n",
    "    \n",
    "    return all_paper_strings    \n",
    "\n",
    "\n",
    "all_article_strings=get_all_paper_strings(arxiv_optics_quantum_modified,folder_file=\"domain_data\")"
   ]
  },
  {
   "cell_type": "code",
   "execution_count": null,
   "id": "121b2bb6-2385-4112-b61b-b0f9f9f8494b",
   "metadata": {},
   "outputs": [],
   "source": []
  }
 ],
 "metadata": {
  "kernelspec": {
   "display_name": "Python 3 (ipykernel)",
   "language": "python",
   "name": "python3"
  },
  "language_info": {
   "codemirror_mode": {
    "name": "ipython",
    "version": 3
   },
   "file_extension": ".py",
   "mimetype": "text/x-python",
   "name": "python",
   "nbconvert_exporter": "python",
   "pygments_lexer": "ipython3",
   "version": "3.9.7"
  }
 },
 "nbformat": 4,
 "nbformat_minor": 5
}
