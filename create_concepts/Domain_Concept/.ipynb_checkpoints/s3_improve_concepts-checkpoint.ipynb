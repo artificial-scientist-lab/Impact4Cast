{
 "cells": [
  {
   "cell_type": "markdown",
   "id": "fbff53e8-c63a-4997-9761-b1018ca5c42e",
   "metadata": {},
   "source": [
    "##### improve domain concepts "
   ]
  },
  {
   "cell_type": "code",
   "execution_count": 1,
   "id": "d1317372",
   "metadata": {},
   "outputs": [],
   "source": [
    "import pickle\n",
    "import os\n",
    "import time\n",
    "from datetime import datetime, date\n",
    "import nltk\n",
    "from nltk.corpus import stopwords\n",
    "from nltk.stem import WordNetLemmatizer\n",
    "from rake_nltk import Metric, Rake\n",
    "from collections import Counter\n",
    "import re\n",
    "import spacy\n",
    "from nltk.corpus import wordnet\n",
    "import random\n"
   ]
  },
  {
   "cell_type": "markdown",
   "id": "6f05270b-b134-44e8-9bb8-5a5642b41755",
   "metadata": {},
   "source": [
    "##### store"
   ]
  },
  {
   "cell_type": "code",
   "execution_count": null,
   "id": "bf5d512d-2f85-4782-a665-cbc9a483a42d",
   "metadata": {},
   "outputs": [],
   "source": [
    "concept_folder=\"concept_seperate\"\n",
    "## finish all \n",
    "all_concepts_file = os.path.join(concept_folder,'all_concepts.pkl')  # edges\n",
    "with open(all_concepts_file, \"rb\") as output_file:\n",
    "    all_concepts=pickle.load(output_file)\n",
    "    \n",
    "## remove repeated concepts\n",
    "unique_concepts = list(set(all_concepts))\n",
    "concepts_path='full_concepts_form_openalex.txt'\n",
    "f = open(concepts_path, \"a\")\n",
    "for ii in range(len(unique_concepts)):\n",
    "    f.write(unique_concepts[ii]+'\\n')\n",
    "f.close()"
   ]
  },
  {
   "cell_type": "markdown",
   "id": "8433c817",
   "metadata": {},
   "source": [
    "##### read the concepts file"
   ]
  },
  {
   "cell_type": "code",
   "execution_count": 2,
   "id": "5ad70368",
   "metadata": {},
   "outputs": [
    {
     "name": "stdout",
     "output_type": "stream",
     "text": [
      "17-04-2023 12:06:38; Concepts: 80675 \n"
     ]
    }
   ],
   "source": [
    " \n",
    "if os.path.exists(concepts_path):\n",
    "    # open the existing file for reading   \n",
    "    with open(concepts_path, \"r\") as f:\n",
    "        modify_full_concept_list = [line.rstrip() for line in f.readlines()]\n",
    "    \n",
    "    now_time = datetime.now()\n",
    "    formatted_time = now_time.strftime(\"%d-%m-%Y %H:%M:%S\")\n",
    "    print(\"{}; Concepts: {:d} \".format(formatted_time,len(modify_full_concept_list)))"
   ]
  },
  {
   "cell_type": "markdown",
   "id": "421f5569",
   "metadata": {},
   "source": [
    "##### filter concepts"
   ]
  },
  {
   "cell_type": "code",
   "execution_count": 3,
   "id": "464d27f2",
   "metadata": {},
   "outputs": [
    {
     "name": "stdout",
     "output_type": "stream",
     "text": [
      "Concepts: 80675 ; Store: 80642; Remove: 33 \n",
      "Elapsed time: 0.34 seconds\n",
      "17-04-2023 12:06:46; Concepts: 80642 \n"
     ]
    }
   ],
   "source": [
    "\n",
    "starting_time = time.time()\n",
    "\n",
    "filter_concept_any=['held','equal','dramatic','slowing','excited','occupied','charged','moving','layer','bi','argument','intuition','experiment','entirely','essentially','built','necessary','take','applicable','employ','visit','visited','herein','facilitates','varying','overlapping','addressed','issues','related','add','adds','dominant','preserve','preserves','preserved','stabilizing','match','manipulating','emerging','processed','data','continuously','analytically','argue','smoothly','connect','connects','connecting','software','matlab','toolbox','standard','industrial','technology','success','equipment','call','analogous','sense','persist','persists','throughout','calculated','useful','difficult','proved']\n",
    "\n",
    "filter_concept_start=['sophisticated','precise','remarkably','consists','gradually','simplified','complete','techniques','partially','presented','iterative','simple','preparation','clear','priori','ae','substantial','sending','protecting','optimized','optimize','optimizing','transmits','transmit','transmitting','transmitted','processing','pre','collect','collected','measured','varied','operating','algorithms','algorithm','robustly','shall','concept','packing','successful','apparent','apparently','readily','adapted','todays','imperfect','seemingly','seeming','shelf','properties','mechanism','phenomenon','behavior','theorem','procedure','usual','form','later','calculating','fundamentally']\n",
    "\n",
    "filter_concept_end=['illustrates','setup','consisting','set','capable','configuration','complete','borrowed','permit','utilizes','referred','refer','capable','pave','stem','preparation','scheme','optimizes','transmitted','transmit','operating','relate','packed','packing','platform','industry','adapt','adapts','adapted','arrangement','era','device','arrange','arranged','content','procedure','outlined','form','formed','followed','following','calculation']\n",
    "\n",
    "\n",
    "concept_to_remove_pair=['self']\n",
    "concept_to_keep_pair=['stabilization']\n",
    "\n",
    "conditioned_filter_concept_any5=['open']\n",
    "conditioned_filter_concept_any3=['driven','component']\n",
    "conditioned_filter_concept_any2=['probe','inspired','technique','open','added','transfer','connected','element','exchange']\n",
    "\n",
    "conditioned_filter_concept_start2=['doubly','probe']\n",
    "conditioned_filter_concept_end2=[]\n",
    "\n",
    "forbidden_continued_strings=['complete measurement','exact numerical','numerical technique','numerical method','complete set','pure entangled','quantum entangled','high fidelity']\n",
    "\n",
    "improve_full_concept_list=[]\n",
    "\n",
    "for one_concept in modify_full_concept_list:\n",
    "    \n",
    "    separated_words=one_concept.split()\n",
    "    do_remove=0\n",
    "    for word in separated_words:\n",
    "        if word in filter_concept_any:\n",
    "            do_remove=1\n",
    "            break\n",
    "        \n",
    "        if len(separated_words)<5: ## only for 5 words\n",
    "            if word in conditioned_filter_concept_any5:\n",
    "                do_remove=1\n",
    "                break\n",
    "\n",
    "            if len(separated_words)<=3:\n",
    "                if word in conditioned_filter_concept_any3:\n",
    "                    do_remove=1\n",
    "                    break\n",
    "                \n",
    "                if len(separated_words)==2: ## only for 2 words\n",
    "                    if word in conditioned_filter_concept_any2:\n",
    "                        do_remove=1\n",
    "                        break\n",
    "\n",
    "             \n",
    "    \n",
    "    if separated_words[0] in filter_concept_start:\n",
    "            do_remove=1\n",
    "    if separated_words[-1] in filter_concept_end:\n",
    "            do_remove=1\n",
    "                \n",
    "    if len(separated_words)==2:\n",
    "        if separated_words[0] in conditioned_filter_concept_start2: #check the start word \n",
    "            do_remove=1\n",
    "        if separated_words[-1] in conditioned_filter_concept_end2: #check the last word \n",
    "            do_remove=1\n",
    "\n",
    "    if do_remove==0:\n",
    "        for word in forbidden_continued_strings:\n",
    "            if word in one_concept:\n",
    "                do_remove=1\n",
    "                break\n",
    "\n",
    "    if do_remove==0:\n",
    "        improve_full_concept_list.append(one_concept)\n",
    "        \n",
    "print(\"Concepts: {:d} ; Store: {:d}; Remove: {:d} \".format(len(modify_full_concept_list), len(improve_full_concept_list),len(modify_full_concept_list)-len(improve_full_concept_list)))\n",
    "elapsed_time = time.time() - starting_time\n",
    "print(\"Elapsed time: {:.2f} seconds\".format(elapsed_time))\n",
    "\n",
    "now_time =  datetime.now()\n",
    "formatted_time = now_time.strftime(\"%d-%m-%Y %H:%M:%S\")\n",
    "print(\"{}; Concepts: {:d} \".format(formatted_time,len(improve_full_concept_list)))"
   ]
  },
  {
   "cell_type": "markdown",
   "id": "736ce8e2",
   "metadata": {},
   "source": [
    "##### restore the file"
   ]
  },
  {
   "cell_type": "code",
   "execution_count": 4,
   "id": "2cd82ff3-5ffd-4988-83cf-d59fccf32e8e",
   "metadata": {},
   "outputs": [
    {
     "name": "stdout",
     "output_type": "stream",
     "text": [
      "txt has been deleted.\n",
      "re-create text and store information.\n",
      "17-04-2023 12:06:52; Concepts: 80642 \n"
     ]
    }
   ],
   "source": [
    "\n",
    "# Delete the orginal txt and re-create a new one with the improved concepts \n",
    "if os.path.exists(concepts_path):\n",
    "    os.remove(concepts_path)\n",
    "    print(\"txt has been deleted.\")\n",
    "\n",
    "    # re-Create the text file  \n",
    "    f = open(concepts_path, \"a\")\n",
    "    for ii in range(len(improve_full_concept_list)):\n",
    "        f.write(improve_full_concept_list[ii]+'\\n')\n",
    "    f.close()\n",
    "    print(\"re-create text and store information.\")  \n",
    "else:\n",
    "    f = open(concepts_path, \"a\")\n",
    "    for ii in range(len(improve_full_concept_list)):\n",
    "        f.write(improve_full_concept_list[ii]+'\\n')\n",
    "    f.close()\n",
    "    print(\"create text and store information.\")\n",
    "    \n",
    "now_time = datetime.now()\n",
    "formatted_time = now_time.strftime(\"%d-%m-%Y %H:%M:%S\")\n",
    "print(\"{}; Concepts: {:d} \".format(formatted_time,len(improve_full_concept_list)))\n"
   ]
  },
  {
   "cell_type": "markdown",
   "id": "55cc750e",
   "metadata": {},
   "source": [
    "##### additionally, store a pkl file (as a backup)"
   ]
  },
  {
   "cell_type": "code",
   "execution_count": null,
   "id": "1987ab1c",
   "metadata": {},
   "outputs": [],
   "source": [
    "concepts_path_pkl=os.path.join(concepts_folder_to_use,'improved_concepts_form_openalex.pkl')\n",
    "with open(concepts_path_pkl, \"wb\") as output_file:\n",
    "    pickle.dump(improve_full_concept_list, output_file)"
   ]
  }
 ],
 "metadata": {
  "kernelspec": {
   "display_name": "Python 3 (ipykernel)",
   "language": "python",
   "name": "python3"
  },
  "language_info": {
   "codemirror_mode": {
    "name": "ipython",
    "version": 3
   },
   "file_extension": ".py",
   "mimetype": "text/x-python",
   "name": "python",
   "nbconvert_exporter": "python",
   "pygments_lexer": "ipython3",
   "version": "3.9.7"
  }
 },
 "nbformat": 4,
 "nbformat_minor": 5
}
