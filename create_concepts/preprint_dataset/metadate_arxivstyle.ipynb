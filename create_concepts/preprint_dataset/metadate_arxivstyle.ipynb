{
 "cells": [
  {
   "cell_type": "code",
   "execution_count": 1,
   "id": "94391cff-27f3-42ea-9f12-62bc154362f5",
   "metadata": {},
   "outputs": [],
   "source": [
    "import os\n",
    "main_run_dir = os.getcwd()\n",
    "\n",
    "def switch_folder_dirs(work_dir, previous_dir):\n",
    "    json_dir = os.path.join(previous_dir, work_dir)\n",
    "    try:\n",
    "        if not os.path.exists(json_dir):\n",
    "            os.makedirs(json_dir)  \n",
    "    except OSError:\n",
    "        #print('Error: Creating directory. '+ json_dir)\n",
    "        pass\n",
    "    os.chdir(json_dir) "
   ]
  },
  {
   "cell_type": "code",
   "execution_count": 2,
   "id": "5f8d99ec-1c43-4354-84ae-57c9eee8e3eb",
   "metadata": {
    "tags": []
   },
   "outputs": [
    {
     "name": "stdout",
     "output_type": "stream",
     "text": [
      "all: 50166; clean: 39232; other-versions: 10934\n"
     ]
    }
   ],
   "source": [
    "import json\n",
    "import ujson\n",
    "\n",
    "medrxiv_all_article=[]\n",
    " \n",
    "with open('medrxiv/medrxiv_metadata_oringal_bio.json', 'r') as f:\n",
    "    medrxiv_all_article.extend(json.load(f))\n",
    "\n",
    "medrxiv_article=[]\n",
    "medrxiv_article_not_version1=[]  ## some papers appear many times with different versions, we only use the first version\n",
    "for ii in range(len(medrxiv_all_article)):\n",
    "    if medrxiv_all_article[ii]['version']==\"1\":\n",
    "        medrxiv_article.append(medrxiv_all_article[ii])\n",
    "    else:\n",
    "        medrxiv_article_not_version1.append(medrxiv_all_article[ii])\n",
    "        \n",
    "\n",
    "with open('medrxiv_metadata.json', 'w') as f:\n",
    "    f.write(json.dumps(medrxiv_article, indent=4))\n",
    "    \n",
    "\n",
    "with open('medrxiv-metadata-oai-snapshot.json', 'w') as f:\n",
    "    f.writelines(map(lambda item: ujson.dumps(item) + '\\n', medrxiv_article))\n",
    "    \n",
    "with open('medrxiv_metadata_not_version1.json', 'w') as f:\n",
    "    f.write(json.dumps(medrxiv_article_not_version1, indent=4))\n",
    "    \n",
    "print(f\"all: {len(medrxiv_all_article)}; clean: {len(medrxiv_article)}; other-versions: {len(medrxiv_article_not_version1)}\")"
   ]
  },
  {
   "cell_type": "code",
   "execution_count": 5,
   "id": "7849fa1d-aa04-4822-a335-7c33965523b8",
   "metadata": {
    "tags": []
   },
   "outputs": [
    {
     "name": "stdout",
     "output_type": "stream",
     "text": [
      "all: 254353; clean: 184839; other-versions: 69514\n"
     ]
    }
   ],
   "source": [
    "import json\n",
    "import ujson\n",
    "\n",
    "biorxiv_all_article=[]\n",
    "with open('biorxiv/biorxiv_metadata_final_all.json', 'r') as f:\n",
    "    biorxiv_all_article.extend(json.load(f))\n",
    "\n",
    "biorxiv_article=[]\n",
    "biorxiv_article_not_version1=[]\n",
    "\n",
    "for ii in range(len(biorxiv_all_article)):\n",
    "    if biorxiv_all_article[ii]['version']==\"1\":\n",
    "        biorxiv_article.append(biorxiv_all_article[ii])\n",
    "    else:\n",
    "        biorxiv_article_not_version1.append(biorxiv_all_article[ii])\n",
    "\n",
    "with open('biorxiv_metadata.json', 'w') as f:\n",
    "    f.write(json.dumps(biorxiv_article, indent=4))\n",
    "    \n",
    "with open('biorxiv-metadata-oai-snapshot.json', 'w') as f:\n",
    "    f.writelines(map(lambda item: ujson.dumps(item) + '\\n', biorxiv_article))\n",
    "    \n",
    "with open('biorxiv_metadata_not_version1.json', 'w') as f:\n",
    "    f.write(json.dumps(biorxiv_article_not_version1, indent=4))\n",
    "    \n",
    "\n",
    "print(f\"all: {len(biorxiv_all_article)}; clean: {len(biorxiv_article)}; other-versions: {len(biorxiv_article_not_version1)}\")"
   ]
  },
  {
   "cell_type": "code",
   "execution_count": 4,
   "id": "9b0b9652-60e2-4fc3-89ce-f871f9520320",
   "metadata": {
    "tags": []
   },
   "outputs": [
    {
     "name": "stdout",
     "output_type": "stream",
     "text": [
      "all: 16480; clean: 16480\n"
     ]
    }
   ],
   "source": [
    "import json\n",
    "import ujson\n",
    "\n",
    "\n",
    "chemrxiv_all_article=[]\n",
    "with open('chemrxiv/chemrxiv_metadata_oringal_asc.json', 'r') as f: #chemrxiv_metadata_oringal\n",
    "    chemrxiv_all_article.extend(json.load(f))\n",
    "    \n",
    "chemrxiv_article=[]\n",
    "for ii in range(len(chemrxiv_all_article)):\n",
    "    chemrxiv_article.append(chemrxiv_all_article[ii]['item'])\n",
    "    \n",
    "    \n",
    "new_chemrxiv_article = []\n",
    "for ii in range(len(chemrxiv_article)):\n",
    "        new_entry = {}\n",
    "        new_entry['id'] = chemrxiv_article[ii]['id']\n",
    "        authors_names = [f\"{author['firstName']} {author['lastName']}\" for author in chemrxiv_article[ii]['authors']]\n",
    "        new_entry['authors'] = ', '.join(authors_names)\n",
    "        new_entry['title'] = chemrxiv_article[ii]['title']\n",
    "        new_entry['doi'] = chemrxiv_article[ii]['doi']\n",
    "        categories_all = ', '.join([d['name'] for d in chemrxiv_article[ii]['categories']])\n",
    "        new_entry['categories'] = categories_all\n",
    "        new_entry['abstract'] = chemrxiv_article[ii]['abstract']\n",
    "        new_entry['date'] = chemrxiv_article[ii]['submittedDate'][0:10]\n",
    "        new_entry['version'] = chemrxiv_article[ii]['version']\n",
    "        new_entry['server'] = 'chemrxiv'\n",
    "        new_chemrxiv_article.append(new_entry)\n",
    "        \n",
    "# write the new dictionary to a JSON file\n",
    "with open(\"chemrxiv_metadata.json\", \"w\") as f:\n",
    "        f.write(json.dumps(new_chemrxiv_article, indent=4))\n",
    "        \n",
    "with open('chemrxiv-metadata-oai-snapshot.json', 'w') as f:\n",
    "    f.writelines(map(lambda item: ujson.dumps(item) + '\\n', new_chemrxiv_article))\n",
    "\n",
    "print(\"all: {:d}; clean: {:d}\".format(len(chemrxiv_article),len(new_chemrxiv_article)))"
   ]
  }
 ],
 "metadata": {
  "kernelspec": {
   "display_name": "Python 3 (ipykernel)",
   "language": "python",
   "name": "python3"
  },
  "language_info": {
   "codemirror_mode": {
    "name": "ipython",
    "version": 3
   },
   "file_extension": ".py",
   "mimetype": "text/x-python",
   "name": "python",
   "nbconvert_exporter": "python",
   "pygments_lexer": "ipython3",
   "version": "3.10.9"
  }
 },
 "nbformat": 4,
 "nbformat_minor": 5
}
