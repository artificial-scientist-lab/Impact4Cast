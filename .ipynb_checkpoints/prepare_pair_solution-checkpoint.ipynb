{
 "cells": [
  {
   "cell_type": "markdown",
   "id": "13244bc0-57db-4b21-89de-9446bc2270c0",
   "metadata": {},
   "source": [
    "## prepare unconnected pairs and its solution year_delta=3"
   ]
  },
  {
   "cell_type": "code",
   "execution_count": 1,
   "id": "7595b3b8-ab0e-42a7-b6f3-dc9b5e59f0d6",
   "metadata": {},
   "outputs": [],
   "source": [
    "import os\n",
    "import sys\n",
    "import json\n",
    "import pickle\n",
    "import gzip\n",
    "from datetime import datetime, date\n",
    "import random, time\n",
    "import numpy as np\n",
    "from scipy import sparse\n",
    "import networkx as nx\n",
    "from collections import defaultdict,Counter\n",
    "import itertools\n",
    "import copy\n",
    "from itertools import combinations\n",
    "import pandas as pd"
   ]
  },
  {
   "cell_type": "markdown",
   "id": "6f8c1e8e-1ca7-42fa-9d9c-98ab10356f7a",
   "metadata": {},
   "source": [
    "### read full graph\n",
    "#### ['v1', 'v2', 'time', 'ct', 'c2023', 'c2022', 'c2021', 'c2020', 'c2019', 'c2018', 'c2017', 'c2016', 'c2015', 'c2014', 'c2013', 'c2012'])"
   ]
  },
  {
   "cell_type": "code",
   "execution_count": 2,
   "id": "220e43d6-cf6e-4efa-81b8-fd293e497cb2",
   "metadata": {},
   "outputs": [
    {
     "name": "stdout",
     "output_type": "stream",
     "text": [
      "Done, read full_graph: 193977096; elapsed_time: 31.906290769577026 seconds\n"
     ]
    }
   ],
   "source": [
    "time_start = time.time()\n",
    "\n",
    "graph_folder=\"data_concept_graph\"\n",
    "graph_file=os.path.join(graph_folder,\"full_dynamic_graph.parquet\")\n",
    "\n",
    "full_graph = pd.read_parquet(graph_file)\n",
    "print(f\"Done, read full_graph: {len(full_graph)}; elapsed_time: {time.time() - time_start} seconds\")"
   ]
  },
  {
   "cell_type": "code",
   "execution_count": 3,
   "id": "1820ecab-24e8-4f35-9f10-6ae426339d12",
   "metadata": {
    "tags": []
   },
   "outputs": [
    {
     "name": "stdout",
     "output_type": "stream",
     "text": [
      "is_smaller: True; elapsed_time: 0.44752979278564453\n",
      "\n"
     ]
    }
   ],
   "source": [
    "time_start=time.time()\n",
    "is_smaller = np.all(full_graph['v1'] < full_graph['v2'])\n",
    "print(f\"is_smaller: {is_smaller}; elapsed_time: {time.time()-time_start}\\n\")"
   ]
  },
  {
   "cell_type": "markdown",
   "id": "fed3ada2-a8fc-4f2e-a759-0d8d93d8d770",
   "metadata": {},
   "source": [
    "### get the unconnected-pairs years_delta=3"
   ]
  },
  {
   "cell_type": "code",
   "execution_count": 3,
   "id": "2492b56b-337b-41eb-987a-cf0de9b56c82",
   "metadata": {},
   "outputs": [
    {
     "name": "stdout",
     "output_type": "stream",
     "text": [
      "day_2016: 9861; day_2019: 10956; day_2022: 12052\n",
      "\n"
     ]
    }
   ],
   "source": [
    "NUM_OF_VERTICES=37960 ## number of concepts\n",
    "\n",
    "vertex_degree_cutoff=1\n",
    "min_edges=1\n",
    "years_delta=3\n",
    "\n",
    "day_origin = date(1990,1,1)\n",
    "day_2016 = (date(2016, 12, 31)- day_origin).days\n",
    "day_2019 = (date(2019, 12, 31)- day_origin).days\n",
    "day_2022 = (date(2022, 12, 31)- day_origin).days\n",
    "print(f\"day_2016: {day_2016}; day_2019: {day_2019}; day_2022: {day_2022}\\n\")"
   ]
  },
  {
   "cell_type": "markdown",
   "id": "525a8ac7-98f2-4570-b87f-c3c3aae9f5b3",
   "metadata": {},
   "source": [
    "#### get full_graph up to 2016,2019,2022"
   ]
  },
  {
   "cell_type": "code",
   "execution_count": 4,
   "id": "a4af60f1-5c9f-4bc4-9714-bc1ebae9a641",
   "metadata": {},
   "outputs": [
    {
     "name": "stdout",
     "output_type": "stream",
     "text": [
      "full_dynamic_graph: 193977096\n",
      "full_graph_2016: 127557712; elapsed_time: 10.194115400314331\n",
      "full_graph_2019: 154251800; elapsed_time: 11.304606437683105\n",
      "full_graph_2022: 191487049; elapsed_time: 13.10411262512207\n"
     ]
    }
   ],
   "source": [
    "print(f\"full_dynamic_graph: {len(full_graph)}\")\n",
    "time_start = time.time()\n",
    "full_graph_2016=full_graph[full_graph['time']<=day_2016]\n",
    "print(f\"full_graph_2016: {len(full_graph_2016)}; elapsed_time: {time.time()-time_start}\")\n",
    "\n",
    "\n",
    "time_start = time.time()\n",
    "full_graph_2019=full_graph[full_graph['time']<=day_2019]\n",
    "print(f\"full_graph_2019: {len(full_graph_2019)}; elapsed_time: {time.time()-time_start}\")\n",
    "\n",
    "\n",
    "time_start = time.time()\n",
    "full_graph_2022=full_graph[full_graph['time']<=day_2022]\n",
    "print(f\"full_graph_2022: {len(full_graph_2022)}; elapsed_time: {time.time()-time_start}\")"
   ]
  },
  {
   "cell_type": "markdown",
   "id": "238bf992-e93f-4448-b2cc-da4432f47cb4",
   "metadata": {},
   "source": [
    "#### get all the vertex pairs"
   ]
  },
  {
   "cell_type": "code",
   "execution_count": 5,
   "id": "9979255b-216a-4270-b4a9-2f283026b398",
   "metadata": {},
   "outputs": [
    {
     "name": "stdout",
     "output_type": "stream",
     "text": [
      "pairs_2016: 20146168; elapsed_time: 12.15381407737732\n",
      "pairs_2019: 22841349; elapsed_time: 14.504824161529541\n",
      "pairs_2022: 26010946; elapsed_time: 19.0612576007843\n"
     ]
    }
   ],
   "source": [
    "time_start=time.time()\n",
    "pairs_2016 = full_graph_2016[['v1', 'v2']].drop_duplicates()\n",
    "print(f\"pairs_2016: {len(pairs_2016)}; elapsed_time: {time.time()-time_start}\")\n",
    "\n",
    "time_start=time.time()\n",
    "pairs_2019 = full_graph_2019[['v1', 'v2']].drop_duplicates()\n",
    "print(f\"pairs_2019: {len(pairs_2019)}; elapsed_time: {time.time()-time_start}\")\n",
    "\n",
    "time_start=time.time()\n",
    "pairs_2022 = full_graph_2022[['v1', 'v2']].drop_duplicates()\n",
    "print(f\"pairs_2022: {len(pairs_2022)}; elapsed_time: {time.time()-time_start}\")"
   ]
  },
  {
   "cell_type": "markdown",
   "id": "32e9bcf8-f79e-4dce-9d8a-247a9454b873",
   "metadata": {},
   "source": [
    "#### get all-combine-pairs while degree >= vertex_degree_cutoff"
   ]
  },
  {
   "cell_type": "code",
   "execution_count": 6,
   "id": "02d7fa3f-4afe-4153-8ac9-182589a7699f",
   "metadata": {},
   "outputs": [
    {
     "name": "stdout",
     "output_type": "stream",
     "text": [
      "vertex_used_2016: 37662; elapsed_time: 2.568633794784546\n",
      "vertex_used_2019: 37901; elapsed_time: 2.9276671409606934\n",
      "vertex_used_2022: 37955; elapsed_time: 3.2913098335266113\n"
     ]
    }
   ],
   "source": [
    "time_start=time.time()\n",
    "# Flatten the array and count the frequency of each node (this gives the degree of each node)\n",
    "all_nodes_2016, degrees_2016 = np.unique(pairs_2016.values.flatten(), return_counts=True)\n",
    "\n",
    "# Create a mask for nodes with a degree greater than the cutoff\n",
    "large_degree_mask = degrees_2016 >= vertex_degree_cutoff\n",
    "# Get the nodes with a degree greater than the cutoff\n",
    "vertex_large_degs_2016 = all_nodes_2016[large_degree_mask]\n",
    "print(f\"vertex_used_2016: {len(vertex_large_degs_2016)}; elapsed_time: {time.time()-time_start}\")\n",
    "\n",
    "\n",
    "time_start=time.time()\n",
    "all_nodes_2019, degrees_2019 = np.unique(pairs_2019.values.flatten(), return_counts=True)\n",
    "large_degree_mask = degrees_2019 >= vertex_degree_cutoff\n",
    "vertex_large_degs_2019 = all_nodes_2019[large_degree_mask]\n",
    "print(f\"vertex_used_2019: {len(vertex_large_degs_2019)}; elapsed_time: {time.time()-time_start}\")\n",
    "\n",
    "\n",
    "time_start=time.time()\n",
    "all_nodes_2022, degrees_2022 = np.unique(pairs_2022.values.flatten(), return_counts=True)\n",
    "large_degree_mask = degrees_2022 >= vertex_degree_cutoff\n",
    "vertex_large_degs_2022 = all_nodes_2022[large_degree_mask]\n",
    "print(f\"vertex_used_2022: {len(vertex_large_degs_2022)}; elapsed_time: {time.time()-time_start}\")"
   ]
  },
  {
   "cell_type": "markdown",
   "id": "78171854-21c5-4d32-87ce-4ecec3384acb",
   "metadata": {},
   "source": [
    "#### get all the combination of the used vertex"
   ]
  },
  {
   "cell_type": "code",
   "execution_count": 7,
   "id": "03f64cca-a413-44c5-96b1-e5c709355e41",
   "metadata": {},
   "outputs": [
    {
     "name": "stdout",
     "output_type": "stream",
     "text": [
      "all combine_pairs_2016: 709194291; elapsed_time: 13.8586585521698\n",
      "all combine_pairs_2019: 718223950; elapsed_time: 13.997780561447144\n",
      "all combine_pairs_2022: 720272035; elapsed_time: 14.053169250488281\n"
     ]
    }
   ],
   "source": [
    " \n",
    "time_start=time.time()\n",
    "n = len(vertex_large_degs_2016)\n",
    "c, r = np.triu_indices(n, k=1)  # Gets the upper triangle indices excluding the diagonal\n",
    "combine_pairs_2016 = np.column_stack((vertex_large_degs_2016[c], vertex_large_degs_2016[r]))\n",
    "print(f\"all combine_pairs_2016: {len(combine_pairs_2016)}; elapsed_time: {time.time()-time_start}\")\n",
    "\n",
    "time_start=time.time()\n",
    "n = len(vertex_large_degs_2019)\n",
    "c, r = np.triu_indices(n, k=1)  # Gets the upper triangle indices excluding the diagonal\n",
    "combine_pairs_2019 = np.column_stack((vertex_large_degs_2019[c], vertex_large_degs_2019[r]))\n",
    "print(f\"all combine_pairs_2019: {len(combine_pairs_2019)}; elapsed_time: {time.time()-time_start}\")\n",
    "\n",
    "\n",
    "time_start=time.time()\n",
    "n = len(vertex_large_degs_2022)\n",
    "c, r = np.triu_indices(n, k=1)  # Gets the upper triangle indices excluding the diagonal\n",
    "combine_pairs_2022 = np.column_stack((vertex_large_degs_2022[c], vertex_large_degs_2022[r]))\n",
    "print(f\"all combine_pairs_2022: {len(combine_pairs_2022)}; elapsed_time: {time.time()-time_start}\")"
   ]
  },
  {
   "cell_type": "code",
   "execution_count": 8,
   "id": "8f1b0563-b385-4d85-a810-e4f30552fc11",
   "metadata": {},
   "outputs": [
    {
     "name": "stdout",
     "output_type": "stream",
     "text": [
      "Convert combine_pairs_2016: 709194291, elapsed_time: 0.002460002899169922\n",
      "Convert combine_pairs_2019: 718223950, elapsed_time: 0.0006887912750244141\n",
      "Convert combine_pairs_2022: 720272035, elapsed_time: 0.000698089599609375\n"
     ]
    }
   ],
   "source": [
    "# Convert numpy arrays to pandas DataFrames\n",
    "time_start=time.time()\n",
    "all_combine_pairs_2016 = pd.DataFrame(combine_pairs_2016, columns=['v1', 'v2'])\n",
    "print(f\"Convert combine_pairs_2016: {len(all_combine_pairs_2016)}, elapsed_time: {time.time()-time_start}\")\n",
    "\n",
    "time_start=time.time()\n",
    "all_combine_pairs_2019 = pd.DataFrame(combine_pairs_2019, columns=['v1', 'v2'])\n",
    "print(f\"Convert combine_pairs_2019: {len(all_combine_pairs_2019)}, elapsed_time: {time.time()-time_start}\")\n",
    "\n",
    "time_start=time.time()\n",
    "all_combine_pairs_2022 = pd.DataFrame(combine_pairs_2022, columns=['v1', 'v2'])\n",
    "print(f\"Convert combine_pairs_2022: {len(all_combine_pairs_2022)}, elapsed_time: {time.time()-time_start}\")"
   ]
  },
  {
   "cell_type": "markdown",
   "id": "c4822b7c-6e3b-4336-a021-ee0b200489a2",
   "metadata": {},
   "source": [
    "### prepare unconnected_pairs"
   ]
  },
  {
   "cell_type": "markdown",
   "id": "fb5be92f-16a6-46fb-bd02-145113d04e32",
   "metadata": {},
   "source": [
    "#### unconnected pairs in 2016"
   ]
  },
  {
   "cell_type": "code",
   "execution_count": 10,
   "id": "b398d23f-81a2-424e-9492-e575f570bd09",
   "metadata": {},
   "outputs": [
    {
     "name": "stdout",
     "output_type": "stream",
     "text": [
      "unconnected_pairs_2016: 689048123; elapsed_time: 201.25491285324097\n"
     ]
    }
   ],
   "source": [
    "time_start=time.time()\n",
    "\n",
    "unconnected_pairs_2016 = pd.merge(all_combine_pairs_2016, pairs_2016, on=['v1', 'v2'], how='outer', indicator=True)\n",
    "unconnected_pairs_2016 = unconnected_pairs_2016[unconnected_pairs_2016['_merge'] == 'left_only']\n",
    "unconnected_pairs_2016 = unconnected_pairs_2016.drop(columns=['_merge'])\n",
    "\n",
    "print(f\"unconnected_pairs_2016: {len(unconnected_pairs_2016)}; elapsed_time: {time.time()-time_start}\")"
   ]
  },
  {
   "cell_type": "markdown",
   "id": "cf8aac39-7037-47eb-8064-3ecccb2d76c9",
   "metadata": {},
   "source": [
    "#### check unconnected pairs in 2016 for 2019 (unconnected+citation and connected+citation)"
   ]
  },
  {
   "cell_type": "code",
   "execution_count": 13,
   "id": "e28c72a3-c682-4aa8-842c-8cdb592cc166",
   "metadata": {},
   "outputs": [
    {
     "name": "stdout",
     "output_type": "stream",
     "text": [
      "unconnected_pair_2016_2019: 686362822; elapsed_time: 235.92881035804749\n",
      "connected_pair_2016_2019: 2685301; elapsed_time: 180.5428500175476\n",
      "\n",
      "train 2016-2019: total- 689048123; connected-- 2685301; unconnected--686362822\n"
     ]
    }
   ],
   "source": [
    "### in unconnected_pair_2016 but not in pairs_2019\n",
    "### unconnected pairs keep unconnected in 2019\n",
    "\n",
    "time_start=time.time()\n",
    "\n",
    "unconnected_pair_2016_2019 = pd.merge(unconnected_pairs_2016, pairs_2019, on=['v1', 'v2'], how='outer', indicator=True)\n",
    "unconnected_pair_2016_2019 = unconnected_pair_2016_2019[unconnected_pair_2016_2019['_merge'] == 'left_only']\n",
    "unconnected_pair_2016_2019 = unconnected_pair_2016_2019.drop(columns=['_merge'])\n",
    "\n",
    "print(f\"unconnected_pair_2016_2019: {len(unconnected_pair_2016_2019)}; elapsed_time: {time.time()-time_start}\")\n",
    "\n",
    "### in unconnected_pair_2016 but also in pairs_2019\n",
    "### unconnected pairs becomes connected in 2019\n",
    "time_start=time.time()\n",
    "connected_pair_2016_2019 = pd.merge(pairs_2019,unconnected_pairs_2016, on=['v1', 'v2'], how='inner', indicator=True)\n",
    "connected_pair_2016_2019 = connected_pair_2016_2019[connected_pair_2016_2019['_merge'] == 'both']\n",
    "connected_pair_2016_2019 = connected_pair_2016_2019.drop(columns=['_merge'])\n",
    "\n",
    "print(f\"connected_pair_2016_2019: {len(connected_pair_2016_2019)}; elapsed_time: {time.time()-time_start}\\n\")\n",
    "print(f\"train 2016-2019: total- {len(unconnected_pairs_2016)}; connected-- {len(connected_pair_2016_2019)}; unconnected--{len(unconnected_pair_2016_2019)}\")"
   ]
  },
  {
   "cell_type": "markdown",
   "id": "7246180b-f242-4e0e-8a7d-1d7feabe42ee",
   "metadata": {},
   "source": [
    "#### unconnected pairs in 2019"
   ]
  },
  {
   "cell_type": "code",
   "execution_count": 14,
   "id": "b4502d7f-0004-494e-811e-282e1b58aa90",
   "metadata": {},
   "outputs": [
    {
     "name": "stdout",
     "output_type": "stream",
     "text": [
      "unconnected_pairs_2019: 695382601; elapsed_time: 196.07343530654907\n"
     ]
    }
   ],
   "source": [
    "time_start=time.time()\n",
    "\n",
    "unconnected_pairs_2019 = pd.merge(all_combine_pairs_2019, pairs_2019, on=['v1', 'v2'], how='outer', indicator=True)\n",
    "unconnected_pairs_2019 = unconnected_pairs_2019[unconnected_pairs_2019['_merge'] == 'left_only']\n",
    "unconnected_pairs_2019 = unconnected_pairs_2019.drop(columns=['_merge'])\n",
    "\n",
    "print(f\"unconnected_pairs_2019: {len(unconnected_pairs_2019)}; elapsed_time: {time.time()-time_start}\")"
   ]
  },
  {
   "cell_type": "markdown",
   "id": "6d31f96d-3dd2-45e5-8485-57905783f4bf",
   "metadata": {},
   "source": [
    "#### check unconnected pairs in 2019 for 2022 (unconnected+citation and connected+citation)"
   ]
  },
  {
   "cell_type": "code",
   "execution_count": 15,
   "id": "89123bd8-b53b-4b5a-a098-721db263739d",
   "metadata": {},
   "outputs": [
    {
     "name": "stdout",
     "output_type": "stream",
     "text": [
      "unconnected_pair_2019_2022: 692215385; elapsed_time: 239.53186178207397\n",
      "connected_pair_2019_2022, 3167216; elapsed_time: 183.01924514770508\n",
      "evalu 2019-2022: total- 695382601; connected-- 3167216; unconnected--692215385\n"
     ]
    }
   ],
   "source": [
    "time_start=time.time()\n",
    "unconnected_pair_2019_2022 = pd.merge(unconnected_pairs_2019, pairs_2022, on=['v1', 'v2'], how='outer', indicator=True)\n",
    "unconnected_pair_2019_2022 = unconnected_pair_2019_2022[unconnected_pair_2019_2022['_merge'] == 'left_only']\n",
    "unconnected_pair_2019_2022 = unconnected_pair_2019_2022.drop(columns=['_merge'])\n",
    "print(f\"unconnected_pair_2019_2022: {len(unconnected_pair_2019_2022)}; elapsed_time: {time.time()-time_start}\")\n",
    "\n",
    "\n",
    "time_start=time.time()\n",
    "connected_pair_2019_2022 = pd.merge(pairs_2022, unconnected_pairs_2019, on=['v1', 'v2'], how='inner', indicator=True)\n",
    "connected_pair_2019_2022 = connected_pair_2019_2022[connected_pair_2019_2022['_merge'] == 'both']\n",
    "connected_pair_2019_2022 = connected_pair_2019_2022.drop(columns=['_merge'])\n",
    "print(f\"connected_pair_2019_2022, {len(connected_pair_2019_2022)}; elapsed_time: {time.time()-time_start}\")\n",
    "print(f\"eval 2019-2022: total- {len(unconnected_pairs_2019)}; connected-- {len(connected_pair_2019_2022)}; unconnected--{len(unconnected_pair_2019_2022)}\")"
   ]
  },
  {
   "cell_type": "markdown",
   "id": "1df45cf3-950b-4e91-a373-f2f26d38248d",
   "metadata": {},
   "source": [
    "#### unconnected pair in 2022 (no future eval)"
   ]
  },
  {
   "cell_type": "code",
   "execution_count": 9,
   "id": "ad050b78-59a2-4d3f-b852-c55872b137f1",
   "metadata": {},
   "outputs": [
    {
     "name": "stdout",
     "output_type": "stream",
     "text": [
      "unconnected_pairs_2022: 694261089; elapsed_time: 201.59090304374695\n",
      "store files in data_pair_solution.....\n",
      "unconnected_pairs_2022: 694261089; elapsed_time: 428.5876655578613\n"
     ]
    }
   ],
   "source": [
    "time_start=time.time()\n",
    "\n",
    "unconnected_pairs_2022 = pd.merge(all_combine_pairs_2022, pairs_2022, on=['v1', 'v2'], how='outer', indicator=True)\n",
    "unconnected_pairs_2022 = unconnected_pairs_2022[unconnected_pairs_2022['_merge'] == 'left_only']\n",
    "unconnected_pairs_2022 = unconnected_pairs_2022.drop(columns=['_merge'])\n",
    "\n",
    "print(f\"unconnected_pairs_2022: {len(unconnected_pairs_2022)}; elapsed_time: {time.time()-time_start}\")\n",
    "\n",
    "\n",
    "store_folder=\"data_pair_solution\"\n",
    "if not os.path.exists(store_folder):\n",
    "    os.makedirs(store_folder)\n",
    "print(f\"store files in {store_folder}.....\")\n",
    "\n",
    "### unconnected pair are connected in 2019, 2022\n",
    "\n",
    "time_start = time.time()\n",
    "store_name=os.path.join(store_folder,\"unconnected_pair_2022.parquet\")\n",
    "unconnected_pairs_2022.to_parquet(store_name, compression='gzip')\n",
    "print(f\"unconnected_pairs_2022: {len(unconnected_pairs_2022)}; elapsed_time: {time.time() - time_start}\")\n"
   ]
  },
  {
   "cell_type": "markdown",
   "id": "d951e74c-b784-473d-9657-8fb355dc0c43",
   "metadata": {},
   "source": [
    "### unconnected pair and solution (citation information); train"
   ]
  },
  {
   "cell_type": "code",
   "execution_count": 16,
   "id": "fd9456e3-7d42-4656-ade6-1b34bdbac5ac",
   "metadata": {},
   "outputs": [
    {
     "name": "stdout",
     "output_type": "stream",
     "text": [
      "2016 connected in 2019  : 3093044; elapsed_time: 34.91400408744812\n",
      "2016 unconnected in 2019: 686362822; elapsed_time: 1.2425153255462646\n"
     ]
    }
   ],
   "source": [
    "time_start=time.time()\n",
    "pair_solution_connected_2019=pd.merge(connected_pair_2016_2019,full_graph_2019, on=['v1', 'v2'], how='inner')\n",
    "print(f\"2016 connected in 2019  : {len(pair_solution_connected_2019)}; elapsed_time: {time.time()-time_start}\")\n",
    "\n",
    "time_start=time.time()\n",
    "pair_solution_unconnected_2019=unconnected_pair_2016_2019\n",
    "pair_solution_unconnected_2019.insert(2, 'citation', 0)\n",
    "print(f\"2016 unconnected in 2019: {len(pair_solution_unconnected_2019)}; elapsed_time: {time.time()-time_start}\")"
   ]
  },
  {
   "cell_type": "code",
   "execution_count": 18,
   "id": "207c5e81-32fb-42af-ab52-14478a0414fd",
   "metadata": {
    "tags": []
   },
   "outputs": [
    {
     "name": "stdout",
     "output_type": "stream",
     "text": [
      "2019 connected in 2022  : 3700606; elapsed_time: 44.165722370147705\n",
      "2019 unconnected in 2022: 692215385; elapsed_time: 1.2526342868804932\n"
     ]
    }
   ],
   "source": [
    "time_start=time.time()\n",
    "pair_solution_connected_2022=pd.merge(connected_pair_2019_2022,full_graph_2022, on=['v1', 'v2'], how='inner')\n",
    "print(f\"2019 connected in 2022  : {len(pair_solution_connected_2022)}; elapsed_time: {time.time()-time_start}\")\n",
    "\n",
    "time_start=time.time()\n",
    "pair_solution_unconnected_2022=unconnected_pair_2019_2022\n",
    "pair_solution_unconnected_2022.insert(2, 'citation', 0)\n",
    "print(f\"2019 unconnected in 2022: {len(pair_solution_unconnected_2022)}; elapsed_time: {time.time()-time_start}\")\n"
   ]
  },
  {
   "cell_type": "markdown",
   "id": "ecd9878f-1b93-4fd9-9ba8-f0d88244f874",
   "metadata": {},
   "source": [
    "#### store orginal cases"
   ]
  },
  {
   "cell_type": "code",
   "execution_count": 21,
   "id": "23e39268-f0a0-4f98-b89c-45791e031c48",
   "metadata": {},
   "outputs": [
    {
     "name": "stdout",
     "output_type": "stream",
     "text": [
      "store files in data_pair_solution.....\n",
      "pair_solution_connected_2019 full: 3093044; elapsed_time: 4.522568225860596\n",
      "pair_solution_connected_2022 full: 3700606; elapsed_time: 4.545568227767944\n",
      "\n",
      "pair_solution_unconnected_2019: 686362822; elapsed_time: 427.5400719642639\n",
      "pair_solution_unconnected_2022: 692215385; elapsed_time: 432.4645767211914\n"
     ]
    }
   ],
   "source": [
    "store_folder=\"data_pair_solution\"\n",
    "if not os.path.exists(store_folder):\n",
    "    os.makedirs(store_folder)\n",
    "print(f\"store files in {store_folder}.....\")\n",
    "\n",
    "### unconnected pair are connected in 2019, 2022\n",
    "\n",
    "time_start = time.time()\n",
    "store_name=os.path.join(store_folder,\"unconnected_2016_pair_solution_connected_2019_full.parquet\")\n",
    "pair_solution_connected_2019.to_parquet(store_name, compression='gzip')\n",
    "print(f\"pair_solution_connected_2019 full: {len(pair_solution_connected_2019)}; elapsed_time: {time.time() - time_start}\")\n",
    "\n",
    "\n",
    "time_start = time.time()\n",
    "store_name=os.path.join(store_folder,\"unconnected_2019_pair_solution_connected_2022_full.parquet\")\n",
    "pair_solution_connected_2022.to_parquet(store_name, compression='gzip')\n",
    "print(f\"pair_solution_connected_2022 full: {len(pair_solution_connected_2022)}; elapsed_time: {time.time() - time_start}\\n\")\n",
    "\n",
    "\n",
    "### unconnected pair are not connected in 2019, 2022\n",
    "\n",
    "time_start = time.time()\n",
    "store_name=os.path.join(store_folder,\"unconnected_2016_pair_solution_unconnected_2019.parquet\")\n",
    "pair_solution_unconnected_2019.to_parquet(store_name, compression='gzip')\n",
    "print(f\"pair_solution_unconnected_2019: {len(pair_solution_unconnected_2019)}; elapsed_time: {time.time() - time_start}\")\n",
    "\n",
    "\n",
    "time_start = time.time()\n",
    "store_name=os.path.join(store_folder,\"unconnected_2019_pair_solution_unconnected_2022.parquet\")\n",
    "pair_solution_unconnected_2022.to_parquet(store_name, compression='gzip')\n",
    "print(f\"pair_solution_unconnected_2022: {len(pair_solution_unconnected_2022)}; elapsed_time: {time.time() - time_start}\")"
   ]
  },
  {
   "cell_type": "markdown",
   "id": "6c6b1ab2-5717-4d79-a530-c10ebcec727d",
   "metadata": {},
   "source": [
    "#### merge repeated pairs "
   ]
  },
  {
   "cell_type": "code",
   "execution_count": 35,
   "id": "d8cda50a-1b2c-43ac-a6fc-8896cfd2c5f6",
   "metadata": {},
   "outputs": [
    {
     "name": "stdout",
     "output_type": "stream",
     "text": [
      "elapsed_time: 1.885589361190796\n",
      "unconnected_2016_pair_solution_connected_2019: 2685301; elapsed_time: 1.5675153732299805\n"
     ]
    }
   ],
   "source": [
    "time_start = time.time()\n",
    "\n",
    "# Use .groupby to group by 'v1' and 'v2', then use .sum to get the total citations for each pair\n",
    "grouped_data_df=pair_solution_connected_2019.copy()\n",
    "grouped_data_df['citation']=pair_solution_connected_2019[['c2019', 'c2018', 'c2017']].sum(axis=1)\n",
    "dynamic_grouped_data = grouped_data_df.groupby(['v1','v2']).agg({'citation':'sum','v1':'size'}).rename(columns={'v1':'num'}).reset_index()\n",
    "dynamic_grouped_data['citation_m'] = dynamic_grouped_data[f'citation'] / dynamic_grouped_data['num']\n",
    "print(f\"elapsed_time: {time.time() - time_start}\")\n",
    "\n",
    "time_start = time.time()\n",
    "store_folder=\"data_pair_solution\" \n",
    "store_name=os.path.join(store_folder,\"unconnected_2016_pair_solution_connected_2019.parquet\")\n",
    "dynamic_grouped_data.to_parquet(store_name, compression='gzip')\n",
    "print(f\"unconnected_2016_pair_solution_connected_2019: {len(dynamic_grouped_data)}; elapsed_time: {time.time() - time_start}\")"
   ]
  },
  {
   "cell_type": "code",
   "execution_count": 36,
   "id": "a7355f47-1985-4a4c-a6e6-879a46fd54ec",
   "metadata": {},
   "outputs": [
    {
     "name": "stdout",
     "output_type": "stream",
     "text": [
      "elapsed_time: 2.318059206008911\n",
      "unconnected_2019_pair_solution_connected_2022_processed: 3167216; elapsed_time: 1.850799560546875\n"
     ]
    }
   ],
   "source": [
    "time_start = time.time()\n",
    "grouped_data_df=pair_solution_connected_2022.copy()\n",
    "grouped_data_df['citation']=pair_solution_connected_2022[['c2022', 'c2021', 'c2020']].sum(axis=1)\n",
    "dynamic_grouped_data = grouped_data_df.groupby(['v1','v2']).agg({'citation':'sum','v1':'size'}).rename(columns={'v1':'num'}).reset_index()\n",
    "dynamic_grouped_data['citation_m'] = dynamic_grouped_data['citation'] / dynamic_grouped_data['num']\n",
    "print(f\"elapsed_time: {time.time() - time_start}\")\n",
    "\n",
    "time_start = time.time()\n",
    "store_folder=\"data_pair_solution\" \n",
    "store_name=os.path.join(store_folder,\"unconnected_2019_pair_solution_connected_2022.parquet\")\n",
    "dynamic_grouped_data.to_parquet(store_name, compression='gzip')\n",
    "print(f\"unconnected_2019_pair_solution_connected_2022_processed: {len(dynamic_grouped_data)}; elapsed_time: {time.time() - time_start}\")"
   ]
  }
 ],
 "metadata": {
  "kernelspec": {
   "display_name": "asl_semnet",
   "language": "python",
   "name": "asl_semnet"
  },
  "language_info": {
   "codemirror_mode": {
    "name": "ipython",
    "version": 3
   },
   "file_extension": ".py",
   "mimetype": "text/x-python",
   "name": "python",
   "nbconvert_exporter": "python",
   "pygments_lexer": "ipython3",
   "version": "3.10.9"
  }
 },
 "nbformat": 4,
 "nbformat_minor": 5
}
